{
 "cells": [
  {
   "cell_type": "code",
   "execution_count": 1,
   "id": "b0c968ca",
   "metadata": {},
   "outputs": [],
   "source": [
    "import pandas as pd\n",
    "import numpy as np\n",
    "import matplotlib.pyplot as plt\n",
    "import seaborn as sns\n",
    "sns.set_style('whitegrid')"
   ]
  },
  {
   "cell_type": "code",
   "execution_count": 2,
   "id": "c691a61b",
   "metadata": {},
   "outputs": [],
   "source": [
    "df = pd.read_csv('adult.csv')"
   ]
  },
  {
   "cell_type": "code",
   "execution_count": 3,
   "id": "8973c7d8",
   "metadata": {},
   "outputs": [
    {
     "data": {
      "text/html": [
       "<div>\n",
       "<style scoped>\n",
       "    .dataframe tbody tr th:only-of-type {\n",
       "        vertical-align: middle;\n",
       "    }\n",
       "\n",
       "    .dataframe tbody tr th {\n",
       "        vertical-align: top;\n",
       "    }\n",
       "\n",
       "    .dataframe thead th {\n",
       "        text-align: right;\n",
       "    }\n",
       "</style>\n",
       "<table border=\"1\" class=\"dataframe\">\n",
       "  <thead>\n",
       "    <tr style=\"text-align: right;\">\n",
       "      <th></th>\n",
       "      <th>Age</th>\n",
       "      <th>Workclass</th>\n",
       "      <th>fnlgwt</th>\n",
       "      <th>Education</th>\n",
       "      <th>Education Num</th>\n",
       "      <th>Marital Status</th>\n",
       "      <th>Occupation</th>\n",
       "      <th>Relationship</th>\n",
       "      <th>Race</th>\n",
       "      <th>Sex</th>\n",
       "      <th>Capital Gain</th>\n",
       "      <th>Capital Loss</th>\n",
       "      <th>Hours/Week</th>\n",
       "      <th>Country</th>\n",
       "      <th>Above/Below 50k</th>\n",
       "    </tr>\n",
       "  </thead>\n",
       "  <tbody>\n",
       "    <tr>\n",
       "      <th>0</th>\n",
       "      <td>39</td>\n",
       "      <td>State-gov</td>\n",
       "      <td>77516</td>\n",
       "      <td>Bachelors</td>\n",
       "      <td>13</td>\n",
       "      <td>Never-married</td>\n",
       "      <td>Adm-clerical</td>\n",
       "      <td>Not-in-family</td>\n",
       "      <td>White</td>\n",
       "      <td>Male</td>\n",
       "      <td>2174</td>\n",
       "      <td>0</td>\n",
       "      <td>40</td>\n",
       "      <td>United-States</td>\n",
       "      <td>&lt;=50K</td>\n",
       "    </tr>\n",
       "    <tr>\n",
       "      <th>1</th>\n",
       "      <td>50</td>\n",
       "      <td>Self-emp-not-inc</td>\n",
       "      <td>83311</td>\n",
       "      <td>Bachelors</td>\n",
       "      <td>13</td>\n",
       "      <td>Married-civ-spouse</td>\n",
       "      <td>Exec-managerial</td>\n",
       "      <td>Husband</td>\n",
       "      <td>White</td>\n",
       "      <td>Male</td>\n",
       "      <td>0</td>\n",
       "      <td>0</td>\n",
       "      <td>13</td>\n",
       "      <td>United-States</td>\n",
       "      <td>&lt;=50K</td>\n",
       "    </tr>\n",
       "    <tr>\n",
       "      <th>2</th>\n",
       "      <td>38</td>\n",
       "      <td>Private</td>\n",
       "      <td>215646</td>\n",
       "      <td>HS-grad</td>\n",
       "      <td>9</td>\n",
       "      <td>Divorced</td>\n",
       "      <td>Handlers-cleaners</td>\n",
       "      <td>Not-in-family</td>\n",
       "      <td>White</td>\n",
       "      <td>Male</td>\n",
       "      <td>0</td>\n",
       "      <td>0</td>\n",
       "      <td>40</td>\n",
       "      <td>United-States</td>\n",
       "      <td>&lt;=50K</td>\n",
       "    </tr>\n",
       "    <tr>\n",
       "      <th>3</th>\n",
       "      <td>53</td>\n",
       "      <td>Private</td>\n",
       "      <td>234721</td>\n",
       "      <td>11th</td>\n",
       "      <td>7</td>\n",
       "      <td>Married-civ-spouse</td>\n",
       "      <td>Handlers-cleaners</td>\n",
       "      <td>Husband</td>\n",
       "      <td>Black</td>\n",
       "      <td>Male</td>\n",
       "      <td>0</td>\n",
       "      <td>0</td>\n",
       "      <td>40</td>\n",
       "      <td>United-States</td>\n",
       "      <td>&lt;=50K</td>\n",
       "    </tr>\n",
       "    <tr>\n",
       "      <th>4</th>\n",
       "      <td>28</td>\n",
       "      <td>Private</td>\n",
       "      <td>338409</td>\n",
       "      <td>Bachelors</td>\n",
       "      <td>13</td>\n",
       "      <td>Married-civ-spouse</td>\n",
       "      <td>Prof-specialty</td>\n",
       "      <td>Wife</td>\n",
       "      <td>Black</td>\n",
       "      <td>Female</td>\n",
       "      <td>0</td>\n",
       "      <td>0</td>\n",
       "      <td>40</td>\n",
       "      <td>Cuba</td>\n",
       "      <td>&lt;=50K</td>\n",
       "    </tr>\n",
       "  </tbody>\n",
       "</table>\n",
       "</div>"
      ],
      "text/plain": [
       "   Age          Workclass  fnlgwt   Education  Education Num  \\\n",
       "0   39          State-gov   77516   Bachelors             13   \n",
       "1   50   Self-emp-not-inc   83311   Bachelors             13   \n",
       "2   38            Private  215646     HS-grad              9   \n",
       "3   53            Private  234721        11th              7   \n",
       "4   28            Private  338409   Bachelors             13   \n",
       "\n",
       "        Marital Status          Occupation    Relationship    Race      Sex  \\\n",
       "0        Never-married        Adm-clerical   Not-in-family   White     Male   \n",
       "1   Married-civ-spouse     Exec-managerial         Husband   White     Male   \n",
       "2             Divorced   Handlers-cleaners   Not-in-family   White     Male   \n",
       "3   Married-civ-spouse   Handlers-cleaners         Husband   Black     Male   \n",
       "4   Married-civ-spouse      Prof-specialty            Wife   Black   Female   \n",
       "\n",
       "   Capital Gain  Capital Loss  Hours/Week         Country Above/Below 50k  \n",
       "0          2174             0          40   United-States           <=50K  \n",
       "1             0             0          13   United-States           <=50K  \n",
       "2             0             0          40   United-States           <=50K  \n",
       "3             0             0          40   United-States           <=50K  \n",
       "4             0             0          40            Cuba           <=50K  "
      ]
     },
     "execution_count": 3,
     "metadata": {},
     "output_type": "execute_result"
    }
   ],
   "source": [
    "df.head()"
   ]
  },
  {
   "cell_type": "code",
   "execution_count": 4,
   "id": "fbf9c491",
   "metadata": {},
   "outputs": [
    {
     "name": "stdout",
     "output_type": "stream",
     "text": [
      "<class 'pandas.core.frame.DataFrame'>\n",
      "RangeIndex: 32561 entries, 0 to 32560\n",
      "Data columns (total 15 columns):\n",
      " #   Column           Non-Null Count  Dtype \n",
      "---  ------           --------------  ----- \n",
      " 0   Age              32561 non-null  int64 \n",
      " 1   Workclass        32561 non-null  object\n",
      " 2   fnlgwt           32561 non-null  int64 \n",
      " 3   Education        32561 non-null  object\n",
      " 4   Education Num    32561 non-null  int64 \n",
      " 5   Marital Status   32561 non-null  object\n",
      " 6   Occupation       32561 non-null  object\n",
      " 7   Relationship     32561 non-null  object\n",
      " 8   Race             32561 non-null  object\n",
      " 9   Sex              32561 non-null  object\n",
      " 10  Capital Gain     32561 non-null  int64 \n",
      " 11  Capital Loss     32561 non-null  int64 \n",
      " 12  Hours/Week       32561 non-null  int64 \n",
      " 13  Country          32561 non-null  object\n",
      " 14  Above/Below 50k  32561 non-null  object\n",
      "dtypes: int64(6), object(9)\n",
      "memory usage: 3.7+ MB\n"
     ]
    }
   ],
   "source": [
    "df.info()"
   ]
  },
  {
   "cell_type": "markdown",
   "id": "58883d88",
   "metadata": {},
   "source": [
    "# Use a function which will give a value count of all object dtypes in df."
   ]
  },
  {
   "cell_type": "code",
   "execution_count": 5,
   "id": "8dfeb460",
   "metadata": {},
   "outputs": [
    {
     "name": "stdout",
     "output_type": "stream",
     "text": [
      "Value counts for column 'Workclass':\n",
      " Private             22696\n",
      " Self-emp-not-inc     2541\n",
      " Local-gov            2093\n",
      " ?                    1836\n",
      " State-gov            1298\n",
      " Self-emp-inc         1116\n",
      " Federal-gov           960\n",
      " Without-pay            14\n",
      " Never-worked            7\n",
      "Name: Workclass, dtype: int64\n",
      "\n",
      "\n",
      "Value counts for column 'Education':\n",
      " HS-grad         10501\n",
      " Some-college     7291\n",
      " Bachelors        5355\n",
      " Masters          1723\n",
      " Assoc-voc        1382\n",
      " 11th             1175\n",
      " Assoc-acdm       1067\n",
      " 10th              933\n",
      " 7th-8th           646\n",
      " Prof-school       576\n",
      " 9th               514\n",
      " 12th              433\n",
      " Doctorate         413\n",
      " 5th-6th           333\n",
      " 1st-4th           168\n",
      " Preschool          51\n",
      "Name: Education, dtype: int64\n",
      "\n",
      "\n",
      "Value counts for column 'Marital Status':\n",
      " Married-civ-spouse       14976\n",
      " Never-married            10683\n",
      " Divorced                  4443\n",
      " Separated                 1025\n",
      " Widowed                    993\n",
      " Married-spouse-absent      418\n",
      " Married-AF-spouse           23\n",
      "Name: Marital Status, dtype: int64\n",
      "\n",
      "\n",
      "Value counts for column 'Occupation':\n",
      " Prof-specialty       4140\n",
      " Craft-repair         4099\n",
      " Exec-managerial      4066\n",
      " Adm-clerical         3770\n",
      " Sales                3650\n",
      " Other-service        3295\n",
      " Machine-op-inspct    2002\n",
      " ?                    1843\n",
      " Transport-moving     1597\n",
      " Handlers-cleaners    1370\n",
      " Farming-fishing       994\n",
      " Tech-support          928\n",
      " Protective-serv       649\n",
      " Priv-house-serv       149\n",
      " Armed-Forces            9\n",
      "Name: Occupation, dtype: int64\n",
      "\n",
      "\n",
      "Value counts for column 'Relationship':\n",
      " Husband           13193\n",
      " Not-in-family      8305\n",
      " Own-child          5068\n",
      " Unmarried          3446\n",
      " Wife               1568\n",
      " Other-relative      981\n",
      "Name: Relationship, dtype: int64\n",
      "\n",
      "\n",
      "Value counts for column 'Race':\n",
      " White                 27816\n",
      " Black                  3124\n",
      " Asian-Pac-Islander     1039\n",
      " Amer-Indian-Eskimo      311\n",
      " Other                   271\n",
      "Name: Race, dtype: int64\n",
      "\n",
      "\n",
      "Value counts for column 'Sex':\n",
      " Male      21790\n",
      " Female    10771\n",
      "Name: Sex, dtype: int64\n",
      "\n",
      "\n",
      "Value counts for column 'Country':\n",
      " United-States                 29170\n",
      " Mexico                          643\n",
      " ?                               583\n",
      " Philippines                     198\n",
      " Germany                         137\n",
      " Canada                          121\n",
      " Puerto-Rico                     114\n",
      " El-Salvador                     106\n",
      " India                           100\n",
      " Cuba                             95\n",
      " England                          90\n",
      " Jamaica                          81\n",
      " South                            80\n",
      " China                            75\n",
      " Italy                            73\n",
      " Dominican-Republic               70\n",
      " Vietnam                          67\n",
      " Guatemala                        64\n",
      " Japan                            62\n",
      " Poland                           60\n",
      " Columbia                         59\n",
      " Taiwan                           51\n",
      " Haiti                            44\n",
      " Iran                             43\n",
      " Portugal                         37\n",
      " Nicaragua                        34\n",
      " Peru                             31\n",
      " France                           29\n",
      " Greece                           29\n",
      " Ecuador                          28\n",
      " Ireland                          24\n",
      " Hong                             20\n",
      " Cambodia                         19\n",
      " Trinadad&Tobago                  19\n",
      " Laos                             18\n",
      " Thailand                         18\n",
      " Yugoslavia                       16\n",
      " Outlying-US(Guam-USVI-etc)       14\n",
      " Honduras                         13\n",
      " Hungary                          13\n",
      " Scotland                         12\n",
      " Holand-Netherlands                1\n",
      "Name: Country, dtype: int64\n",
      "\n",
      "\n",
      "Value counts for column 'Above/Below 50k':\n",
      " <=50K    24720\n",
      " >50K      7841\n",
      "Name: Above/Below 50k, dtype: int64\n",
      "\n",
      "\n"
     ]
    }
   ],
   "source": [
    "def value_counts_all_object_columns(dataframe):\n",
    "    # Filter only object columns\n",
    "    object_columns = dataframe.select_dtypes(include='object').columns\n",
    "    \n",
    "    # Apply value_counts() to each object column\n",
    "    for column in object_columns:\n",
    "        print(f\"Value counts for column '{column}':\")\n",
    "        print(dataframe[column].value_counts(dropna=False))\n",
    "        print(\"\\n\")\n",
    "\n",
    "value_counts_all_object_columns(df)"
   ]
  },
  {
   "cell_type": "markdown",
   "id": "27760334",
   "metadata": {},
   "source": [
    "# In order to save memory and boost performance, let's convert object columns to category.\n",
    "\n",
    "## By default, columns containing strings are not stored using pandas' category dtype, as not every column containing strings needs to be categorical.\n",
    "- Convert object type to categorical, and read back the data to df again."
   ]
  },
  {
   "cell_type": "code",
   "execution_count": 6,
   "id": "a76a97be",
   "metadata": {},
   "outputs": [
    {
     "name": "stdout",
     "output_type": "stream",
     "text": [
      "<class 'pandas.core.frame.DataFrame'>\n",
      "RangeIndex: 32561 entries, 0 to 32560\n",
      "Data columns (total 15 columns):\n",
      " #   Column           Non-Null Count  Dtype   \n",
      "---  ------           --------------  -----   \n",
      " 0   Age              32561 non-null  int64   \n",
      " 1   Workclass        32561 non-null  category\n",
      " 2   fnlgwt           32561 non-null  int64   \n",
      " 3   Education        32561 non-null  category\n",
      " 4   Education Num    32561 non-null  int64   \n",
      " 5   Marital Status   32561 non-null  category\n",
      " 6   Occupation       32561 non-null  object  \n",
      " 7   Relationship     32561 non-null  category\n",
      " 8   Race             32561 non-null  object  \n",
      " 9   Sex              32561 non-null  object  \n",
      " 10  Capital Gain     32561 non-null  int64   \n",
      " 11  Capital Loss     32561 non-null  int64   \n",
      " 12  Hours/Week       32561 non-null  int64   \n",
      " 13  Country          32561 non-null  object  \n",
      " 14  Above/Below 50k  32561 non-null  category\n",
      "dtypes: category(5), int64(6), object(4)\n",
      "memory usage: 2.6+ MB\n"
     ]
    }
   ],
   "source": [
    "df_dtypes = {\n",
    "  'Workclass': 'category',\n",
    "  'Education': 'category',\n",
    "  'Marital Status': 'category',\n",
    "  'Relationship': 'category',\n",
    "  'Above/Below 50k': 'category'\n",
    "}\n",
    "\n",
    "df2 = pd.read_csv('adult.csv',dtype=df_dtypes)\n",
    "df2.info()"
   ]
  },
  {
   "cell_type": "markdown",
   "id": "c99a4bea",
   "metadata": {},
   "source": [
    "# Using a new dataset, let's set, add, and remove categories."
   ]
  },
  {
   "cell_type": "code",
   "execution_count": 7,
   "id": "e5bdfb20",
   "metadata": {},
   "outputs": [
    {
     "data": {
      "text/html": [
       "<div>\n",
       "<style scoped>\n",
       "    .dataframe tbody tr th:only-of-type {\n",
       "        vertical-align: middle;\n",
       "    }\n",
       "\n",
       "    .dataframe tbody tr th {\n",
       "        vertical-align: top;\n",
       "    }\n",
       "\n",
       "    .dataframe thead th {\n",
       "        text-align: right;\n",
       "    }\n",
       "</style>\n",
       "<table border=\"1\" class=\"dataframe\">\n",
       "  <thead>\n",
       "    <tr style=\"text-align: right;\">\n",
       "      <th></th>\n",
       "      <th>ID</th>\n",
       "      <th>name</th>\n",
       "      <th>age</th>\n",
       "      <th>sex</th>\n",
       "      <th>breed</th>\n",
       "      <th>date_found</th>\n",
       "      <th>adoptable_from</th>\n",
       "      <th>posted</th>\n",
       "      <th>color</th>\n",
       "      <th>coat</th>\n",
       "      <th>size</th>\n",
       "      <th>neutered</th>\n",
       "      <th>housebroken</th>\n",
       "      <th>likes_people</th>\n",
       "      <th>likes_children</th>\n",
       "      <th>get_along_males</th>\n",
       "      <th>get_along_females</th>\n",
       "      <th>get_along_cats</th>\n",
       "      <th>keep_in</th>\n",
       "    </tr>\n",
       "  </thead>\n",
       "  <tbody>\n",
       "    <tr>\n",
       "      <th>0</th>\n",
       "      <td>23807</td>\n",
       "      <td>Gida</td>\n",
       "      <td>0.25</td>\n",
       "      <td>female</td>\n",
       "      <td>Unknown Mix</td>\n",
       "      <td>12/10/19</td>\n",
       "      <td>12/11/19</td>\n",
       "      <td>12/11/19</td>\n",
       "      <td>red</td>\n",
       "      <td>short</td>\n",
       "      <td>small</td>\n",
       "      <td>no</td>\n",
       "      <td>NaN</td>\n",
       "      <td>NaN</td>\n",
       "      <td>NaN</td>\n",
       "      <td>NaN</td>\n",
       "      <td>NaN</td>\n",
       "      <td>NaN</td>\n",
       "      <td>NaN</td>\n",
       "    </tr>\n",
       "    <tr>\n",
       "      <th>1</th>\n",
       "      <td>533</td>\n",
       "      <td>Frida És Ricsi</td>\n",
       "      <td>0.17</td>\n",
       "      <td>female</td>\n",
       "      <td>Unknown Mix</td>\n",
       "      <td>12/1/19</td>\n",
       "      <td>12/1/19</td>\n",
       "      <td>12/9/19</td>\n",
       "      <td>black and white</td>\n",
       "      <td>short</td>\n",
       "      <td>small</td>\n",
       "      <td>no</td>\n",
       "      <td>NaN</td>\n",
       "      <td>yes</td>\n",
       "      <td>yes</td>\n",
       "      <td>yes</td>\n",
       "      <td>yes</td>\n",
       "      <td>yes</td>\n",
       "      <td>NaN</td>\n",
       "    </tr>\n",
       "    <tr>\n",
       "      <th>2</th>\n",
       "      <td>23793</td>\n",
       "      <td>NaN</td>\n",
       "      <td>4.00</td>\n",
       "      <td>male</td>\n",
       "      <td>Unknown Mix</td>\n",
       "      <td>12/8/19</td>\n",
       "      <td>12/23/19</td>\n",
       "      <td>12/8/19</td>\n",
       "      <td>saddle back</td>\n",
       "      <td>short</td>\n",
       "      <td>medium</td>\n",
       "      <td>no</td>\n",
       "      <td>NaN</td>\n",
       "      <td>NaN</td>\n",
       "      <td>NaN</td>\n",
       "      <td>NaN</td>\n",
       "      <td>NaN</td>\n",
       "      <td>NaN</td>\n",
       "      <td>NaN</td>\n",
       "    </tr>\n",
       "    <tr>\n",
       "      <th>3</th>\n",
       "      <td>23795</td>\n",
       "      <td>NaN</td>\n",
       "      <td>1.00</td>\n",
       "      <td>male</td>\n",
       "      <td>Unknown Mix</td>\n",
       "      <td>12/8/19</td>\n",
       "      <td>12/23/19</td>\n",
       "      <td>12/8/19</td>\n",
       "      <td>yellow-brown</td>\n",
       "      <td>medium</td>\n",
       "      <td>medium</td>\n",
       "      <td>no</td>\n",
       "      <td>NaN</td>\n",
       "      <td>NaN</td>\n",
       "      <td>NaN</td>\n",
       "      <td>NaN</td>\n",
       "      <td>NaN</td>\n",
       "      <td>NaN</td>\n",
       "      <td>NaN</td>\n",
       "    </tr>\n",
       "    <tr>\n",
       "      <th>4</th>\n",
       "      <td>23806</td>\n",
       "      <td>Amy</td>\n",
       "      <td>2.00</td>\n",
       "      <td>female</td>\n",
       "      <td>French Bulldog Mix</td>\n",
       "      <td>12/10/19</td>\n",
       "      <td>12/11/19</td>\n",
       "      <td>12/11/19</td>\n",
       "      <td>black</td>\n",
       "      <td>short</td>\n",
       "      <td>small</td>\n",
       "      <td>no</td>\n",
       "      <td>NaN</td>\n",
       "      <td>NaN</td>\n",
       "      <td>NaN</td>\n",
       "      <td>NaN</td>\n",
       "      <td>NaN</td>\n",
       "      <td>NaN</td>\n",
       "      <td>NaN</td>\n",
       "    </tr>\n",
       "  </tbody>\n",
       "</table>\n",
       "</div>"
      ],
      "text/plain": [
       "      ID            name   age     sex               breed date_found  \\\n",
       "0  23807            Gida  0.25  female         Unknown Mix   12/10/19   \n",
       "1    533  Frida És Ricsi  0.17  female         Unknown Mix    12/1/19   \n",
       "2  23793             NaN  4.00    male         Unknown Mix    12/8/19   \n",
       "3  23795             NaN  1.00    male         Unknown Mix    12/8/19   \n",
       "4  23806             Amy  2.00  female  French Bulldog Mix   12/10/19   \n",
       "\n",
       "  adoptable_from    posted            color    coat    size neutered  \\\n",
       "0       12/11/19  12/11/19              red   short   small       no   \n",
       "1        12/1/19   12/9/19  black and white   short   small       no   \n",
       "2       12/23/19   12/8/19      saddle back   short  medium       no   \n",
       "3       12/23/19   12/8/19     yellow-brown  medium  medium       no   \n",
       "4       12/11/19  12/11/19            black   short   small       no   \n",
       "\n",
       "  housebroken likes_people likes_children get_along_males get_along_females  \\\n",
       "0         NaN          NaN            NaN             NaN               NaN   \n",
       "1         NaN          yes            yes             yes               yes   \n",
       "2         NaN          NaN            NaN             NaN               NaN   \n",
       "3         NaN          NaN            NaN             NaN               NaN   \n",
       "4         NaN          NaN            NaN             NaN               NaN   \n",
       "\n",
       "  get_along_cats keep_in  \n",
       "0            NaN     NaN  \n",
       "1            yes     NaN  \n",
       "2            NaN     NaN  \n",
       "3            NaN     NaN  \n",
       "4            NaN     NaN  "
      ]
     },
     "execution_count": 7,
     "metadata": {},
     "output_type": "execute_result"
    }
   ],
   "source": [
    "dogs = pd.read_csv('ShelterDogs.csv')\n",
    "dogs.head()"
   ]
  },
  {
   "cell_type": "markdown",
   "id": "a0624cff",
   "metadata": {},
   "source": [
    "# The .cat accesor object will be used to access and manipulate the categories of a categorical Series.\n",
    "- set_categories\n",
    "- inplace\n",
    "- ordered\n",
    "- add_categories\n",
    "- remove_categories\n",
    "- rename_categories"
   ]
  },
  {
   "cell_type": "code",
   "execution_count": 8,
   "id": "a571f332",
   "metadata": {},
   "outputs": [
    {
     "name": "stdout",
     "output_type": "stream",
     "text": [
      "<class 'pandas.core.frame.DataFrame'>\n",
      "RangeIndex: 2937 entries, 0 to 2936\n",
      "Data columns (total 19 columns):\n",
      " #   Column             Non-Null Count  Dtype  \n",
      "---  ------             --------------  -----  \n",
      " 0   ID                 2937 non-null   int64  \n",
      " 1   name               2845 non-null   object \n",
      " 2   age                2937 non-null   float64\n",
      " 3   sex                2937 non-null   object \n",
      " 4   breed              2937 non-null   object \n",
      " 5   date_found         2937 non-null   object \n",
      " 6   adoptable_from     2937 non-null   object \n",
      " 7   posted             2937 non-null   object \n",
      " 8   color              2937 non-null   object \n",
      " 9   coat               2937 non-null   object \n",
      " 10  size               2937 non-null   object \n",
      " 11  neutered           1852 non-null   object \n",
      " 12  housebroken        460 non-null    object \n",
      " 13  likes_people       1999 non-null   object \n",
      " 14  likes_children     1219 non-null   object \n",
      " 15  get_along_males    1633 non-null   object \n",
      " 16  get_along_females  1673 non-null   object \n",
      " 17  get_along_cats     431 non-null    object \n",
      " 18  keep_in            1916 non-null   object \n",
      "dtypes: float64(1), int64(1), object(17)\n",
      "memory usage: 436.1+ KB\n"
     ]
    }
   ],
   "source": [
    "dogs.info()"
   ]
  },
  {
   "cell_type": "markdown",
   "id": "991c0317",
   "metadata": {},
   "source": [
    "# Convert the 'size' column into a ordered categorical series."
   ]
  },
  {
   "cell_type": "code",
   "execution_count": 9,
   "id": "58cf167c",
   "metadata": {},
   "outputs": [
    {
     "data": {
      "text/plain": [
       "medium    1944\n",
       "large      519\n",
       "small      474\n",
       "Name: size, dtype: int64"
      ]
     },
     "execution_count": 9,
     "metadata": {},
     "output_type": "execute_result"
    }
   ],
   "source": [
    "dogs['size'].value_counts(dropna=False)"
   ]
  },
  {
   "cell_type": "code",
   "execution_count": 10,
   "id": "71e7a495",
   "metadata": {},
   "outputs": [],
   "source": [
    "dogs['size'] = dogs['size'].astype('category').cat.set_categories(\n",
    "    new_categories=['small','medium','large'],\n",
    "    ordered=True)"
   ]
  },
  {
   "cell_type": "code",
   "execution_count": 11,
   "id": "81904875",
   "metadata": {},
   "outputs": [
    {
     "data": {
      "text/plain": [
       "CategoricalDtype(categories=['small', 'medium', 'large'], ordered=True)"
      ]
     },
     "execution_count": 11,
     "metadata": {},
     "output_type": "execute_result"
    }
   ],
   "source": [
    "dogs['size'].dtype"
   ]
  },
  {
   "cell_type": "code",
   "execution_count": 12,
   "id": "b6d655bf",
   "metadata": {},
   "outputs": [
    {
     "name": "stdout",
     "output_type": "stream",
     "text": [
      "Value counts for column 'name':\n",
      "NaN        92\n",
      "Lili       18\n",
      "Kormi      11\n",
      "Maci       10\n",
      "Buksi       9\n",
      "           ..\n",
      "Ilka        1\n",
      "Dixi        1\n",
      "Páfrány     1\n",
      "Tepertõ     1\n",
      "Kölni       1\n",
      "Name: name, Length: 2017, dtype: int64\n",
      "\n",
      "\n",
      "Value counts for column 'sex':\n",
      "male      1681\n",
      "female    1256\n",
      "Name: sex, dtype: int64\n",
      "\n",
      "\n",
      "Value counts for column 'breed':\n",
      "Unknown Mix                                             1524\n",
      "German Shepherd Dog Mix                                  190\n",
      "Dachshund Mix                                            147\n",
      "Labrador Retriever Mix                                    83\n",
      "Staffordshire Terrier Mix                                 62\n",
      "                                                        ... \n",
      "Border Collie, Spaniel Mix                                 1\n",
      "Bull Terrier, Fox Terrier, Staffordshire Terrier Mix       1\n",
      "Greyhound, Transylvanian Hound Mix                         1\n",
      "Komondor Mix                                               1\n",
      "German Pointer, Greyhound, Pointer Mix                     1\n",
      "Name: breed, Length: 277, dtype: int64\n",
      "\n",
      "\n",
      "Value counts for column 'date_found':\n",
      "5/3/10     36\n",
      "10/3/10    35\n",
      "1/1/10     25\n",
      "1/1/11     21\n",
      "12/5/11    20\n",
      "           ..\n",
      "3/20/15     1\n",
      "4/28/15     1\n",
      "9/26/19     1\n",
      "4/9/15      1\n",
      "4/2/05      1\n",
      "Name: date_found, Length: 1583, dtype: int64\n",
      "\n",
      "\n",
      "Value counts for column 'adoptable_from':\n",
      "5/3/10     36\n",
      "10/3/10    35\n",
      "1/1/10     25\n",
      "12/5/11    22\n",
      "1/1/11     20\n",
      "           ..\n",
      "9/26/15     1\n",
      "7/15/15     1\n",
      "8/25/15     1\n",
      "2/7/15      1\n",
      "4/2/05      1\n",
      "Name: adoptable_from, Length: 1578, dtype: int64\n",
      "\n",
      "\n",
      "Value counts for column 'posted':\n",
      "10/2/12     61\n",
      "10/31/11    39\n",
      "2/13/19     34\n",
      "5/19/16     27\n",
      "8/17/12     26\n",
      "            ..\n",
      "4/23/14      1\n",
      "4/29/14      1\n",
      "8/17/18      1\n",
      "9/16/18      1\n",
      "5/2/05       1\n",
      "Name: posted, Length: 1167, dtype: int64\n",
      "\n",
      "\n",
      "Value counts for column 'color':\n",
      "black              620\n",
      "brown              293\n",
      "black and brown    287\n",
      "yellow-brown       212\n",
      "black and white    190\n",
      "black and tan      155\n",
      "apricot            142\n",
      "brown and white    124\n",
      "white              124\n",
      "sable              118\n",
      "tricolor            99\n",
      "saddle back         91\n",
      "striped             89\n",
      "gray                64\n",
      "yellow              63\n",
      "golden              61\n",
      "red                 53\n",
      "spotty              47\n",
      "gray and white      35\n",
      "gray and black      28\n",
      "wild boar           18\n",
      "red and white       14\n",
      "dotted              10\n",
      "Name: color, dtype: int64\n",
      "\n",
      "\n",
      "Value counts for column 'coat':\n",
      "short         1972\n",
      "medium         565\n",
      "wirehaired     220\n",
      "long           180\n",
      "Name: coat, dtype: int64\n",
      "\n",
      "\n",
      "Value counts for column 'neutered':\n",
      "yes    1151\n",
      "NaN    1085\n",
      "no      701\n",
      "Name: neutered, dtype: int64\n",
      "\n",
      "\n",
      "Value counts for column 'housebroken':\n",
      "NaN    2477\n",
      "yes     405\n",
      "no       55\n",
      "Name: housebroken, dtype: int64\n",
      "\n",
      "\n",
      "Value counts for column 'likes_people':\n",
      "yes    1991\n",
      "NaN     938\n",
      "no        8\n",
      "Name: likes_people, dtype: int64\n",
      "\n",
      "\n",
      "Value counts for column 'likes_children':\n",
      "NaN    1718\n",
      "yes    1172\n",
      "no       47\n",
      "Name: likes_children, dtype: int64\n",
      "\n",
      "\n",
      "Value counts for column 'get_along_males':\n",
      "yes    1470\n",
      "NaN    1304\n",
      "no      163\n",
      "Name: get_along_males, dtype: int64\n",
      "\n",
      "\n",
      "Value counts for column 'get_along_females':\n",
      "yes    1595\n",
      "NaN    1264\n",
      "no       78\n",
      "Name: get_along_females, dtype: int64\n",
      "\n",
      "\n",
      "Value counts for column 'get_along_cats':\n",
      "NaN    2506\n",
      "yes     275\n",
      "no      156\n",
      "Name: get_along_cats, dtype: int64\n",
      "\n",
      "\n",
      "Value counts for column 'keep_in':\n",
      "both flat and garden    1224\n",
      "NaN                     1021\n",
      "garden                   510\n",
      "flat                     182\n",
      "Name: keep_in, dtype: int64\n",
      "\n",
      "\n"
     ]
    }
   ],
   "source": [
    "value_counts_all_object_columns(dogs)"
   ]
  },
  {
   "cell_type": "markdown",
   "id": "5cd47f0d",
   "metadata": {},
   "source": [
    "# Adding categories"
   ]
  },
  {
   "cell_type": "code",
   "execution_count": 13,
   "id": "66eea21d",
   "metadata": {},
   "outputs": [
    {
     "data": {
      "text/plain": [
       "both flat and garden    1224\n",
       "NaN                     1021\n",
       "garden                   510\n",
       "flat                     182\n",
       "Name: keep_in, dtype: int64"
      ]
     },
     "execution_count": 13,
     "metadata": {},
     "output_type": "execute_result"
    }
   ],
   "source": [
    "dogs['keep_in'].value_counts(dropna=False)"
   ]
  },
  {
   "cell_type": "code",
   "execution_count": 14,
   "id": "a59a1441",
   "metadata": {},
   "outputs": [],
   "source": [
    "dogs['keep_in'] = dogs['keep_in'].astype('category').cat.add_categories(\n",
    "    [\"Unknown History\", \"Open Yard (Countryside)\"])"
   ]
  },
  {
   "cell_type": "code",
   "execution_count": 15,
   "id": "c499be88",
   "metadata": {},
   "outputs": [
    {
     "data": {
      "text/plain": [
       "both flat and garden       1224\n",
       "NaN                        1021\n",
       "garden                      510\n",
       "flat                        182\n",
       "Unknown History               0\n",
       "Open Yard (Countryside)       0\n",
       "Name: keep_in, dtype: int64"
      ]
     },
     "execution_count": 15,
     "metadata": {},
     "output_type": "execute_result"
    }
   ],
   "source": [
    "dogs['keep_in'].value_counts(dropna=False)"
   ]
  },
  {
   "cell_type": "code",
   "execution_count": 16,
   "id": "395b504a",
   "metadata": {},
   "outputs": [
    {
     "data": {
      "text/plain": [
       "yes    1991\n",
       "NaN     938\n",
       "no        8\n",
       "Name: likes_people, dtype: int64"
      ]
     },
     "execution_count": 16,
     "metadata": {},
     "output_type": "execute_result"
    }
   ],
   "source": [
    "dogs.likes_people.value_counts(dropna=False)"
   ]
  },
  {
   "cell_type": "markdown",
   "id": "bb564709",
   "metadata": {},
   "source": [
    "# Removing categories\n",
    "- Convert column from object to category\n",
    "- Convert all 'maybe' responses from the 'likes_children' column to 'no'.\n",
    "- Remove 'maybe' category from the column."
   ]
  },
  {
   "cell_type": "code",
   "execution_count": 17,
   "id": "b701179b",
   "metadata": {},
   "outputs": [],
   "source": [
    "dogs[\"likes_children\"] = dogs[\"likes_children\"].astype('category')"
   ]
  },
  {
   "cell_type": "code",
   "execution_count": 18,
   "id": "f82ccc53",
   "metadata": {},
   "outputs": [],
   "source": [
    "dogs['likes_children'] = dogs['likes_children'].fillna('no')"
   ]
  },
  {
   "cell_type": "code",
   "execution_count": 19,
   "id": "86c87c3c",
   "metadata": {},
   "outputs": [
    {
     "data": {
      "text/plain": [
       "no     1765\n",
       "yes    1172\n",
       "Name: likes_children, dtype: int64"
      ]
     },
     "execution_count": 19,
     "metadata": {},
     "output_type": "execute_result"
    }
   ],
   "source": [
    "dogs['likes_children'].value_counts()"
   ]
  },
  {
   "cell_type": "code",
   "execution_count": 20,
   "id": "bd2f97e8",
   "metadata": {},
   "outputs": [
    {
     "data": {
      "text/plain": [
       "Index(['no', 'yes'], dtype='object')"
      ]
     },
     "execution_count": 20,
     "metadata": {},
     "output_type": "execute_result"
    }
   ],
   "source": [
    "dogs.likes_children.cat.categories"
   ]
  },
  {
   "cell_type": "code",
   "execution_count": 21,
   "id": "7dfc6615",
   "metadata": {},
   "outputs": [
    {
     "data": {
      "text/plain": [
       "['no', 'yes']\n",
       "Categories (2, object): ['no', 'yes']"
      ]
     },
     "execution_count": 21,
     "metadata": {},
     "output_type": "execute_result"
    }
   ],
   "source": [
    "dogs.likes_children.unique()"
   ]
  },
  {
   "cell_type": "markdown",
   "id": "320e8127",
   "metadata": {},
   "source": [
    "# Updating categories"
   ]
  },
  {
   "cell_type": "code",
   "execution_count": 22,
   "id": "921aba11",
   "metadata": {},
   "outputs": [
    {
     "name": "stdout",
     "output_type": "stream",
     "text": [
      "<class 'pandas.core.frame.DataFrame'>\n",
      "RangeIndex: 2937 entries, 0 to 2936\n",
      "Data columns (total 19 columns):\n",
      " #   Column             Non-Null Count  Dtype   \n",
      "---  ------             --------------  -----   \n",
      " 0   ID                 2937 non-null   int64   \n",
      " 1   name               2845 non-null   object  \n",
      " 2   age                2937 non-null   float64 \n",
      " 3   sex                2937 non-null   object  \n",
      " 4   breed              2937 non-null   category\n",
      " 5   date_found         2937 non-null   object  \n",
      " 6   adoptable_from     2937 non-null   object  \n",
      " 7   posted             2937 non-null   object  \n",
      " 8   color              2937 non-null   object  \n",
      " 9   coat               2937 non-null   object  \n",
      " 10  size               2937 non-null   category\n",
      " 11  neutered           1852 non-null   object  \n",
      " 12  housebroken        460 non-null    object  \n",
      " 13  likes_people       1999 non-null   object  \n",
      " 14  likes_children     2937 non-null   category\n",
      " 15  get_along_males    1633 non-null   object  \n",
      " 16  get_along_females  1673 non-null   object  \n",
      " 17  get_along_cats     431 non-null    object  \n",
      " 18  keep_in            1916 non-null   category\n",
      "dtypes: category(4), float64(1), int64(1), object(13)\n",
      "memory usage: 369.4+ KB\n"
     ]
    }
   ],
   "source": [
    "dogs['breed'] = dogs.breed.astype('category')\n",
    "dogs.info()"
   ]
  },
  {
   "cell_type": "code",
   "execution_count": 23,
   "id": "1d353dc0",
   "metadata": {},
   "outputs": [
    {
     "data": {
      "text/plain": [
       "Unknown Mix                                 1524\n",
       "German Shepherd Dog Mix                      190\n",
       "Dachshund Mix                                147\n",
       "Labrador Retriever Mix                        83\n",
       "Staffordshire Terrier Mix                     62\n",
       "                                            ... \n",
       "English Cocker Spaniel, Vizsla Mix             1\n",
       "English Greyhound Mix                          1\n",
       "English Greyhound, Spanish Greyhound Mix       1\n",
       "Fox Terrier, German Shepherd Dog Mix           1\n",
       "Yorkshire Terrier                              1\n",
       "Name: breed, Length: 277, dtype: int64"
      ]
     },
     "execution_count": 23,
     "metadata": {},
     "output_type": "execute_result"
    }
   ],
   "source": [
    "# Rename 'Unknown Mix' to 'Unknown'\n",
    "dogs['breed'].value_counts()"
   ]
  },
  {
   "cell_type": "code",
   "execution_count": 24,
   "id": "310b38a3",
   "metadata": {},
   "outputs": [
    {
     "data": {
      "text/plain": [
       "Unknown                                     1524\n",
       "German Shepherd Dog Mix                      190\n",
       "Dachshund Mix                                147\n",
       "Labrador Retriever Mix                        83\n",
       "Staffordshire Terrier Mix                     62\n",
       "                                            ... \n",
       "English Cocker Spaniel, Vizsla Mix             1\n",
       "English Greyhound Mix                          1\n",
       "English Greyhound, Spanish Greyhound Mix       1\n",
       "Fox Terrier, German Shepherd Dog Mix           1\n",
       "Yorkshire Terrier                              1\n",
       "Name: breed, Length: 277, dtype: int64"
      ]
     },
     "execution_count": 24,
     "metadata": {},
     "output_type": "execute_result"
    }
   ],
   "source": [
    "dogs['breed'] = dogs['breed'].cat.rename_categories({'Unknown Mix':'Unknown'})\n",
    "dogs['breed'].value_counts()"
   ]
  },
  {
   "cell_type": "code",
   "execution_count": 25,
   "id": "388adbc9",
   "metadata": {},
   "outputs": [],
   "source": [
    "# Collapsing Categories\n",
    "dogs['color'] = dogs.color.astype('category')"
   ]
  },
  {
   "cell_type": "code",
   "execution_count": 26,
   "id": "6c356c81",
   "metadata": {},
   "outputs": [],
   "source": [
    "update_colors = {'black and brown':'black',\n",
    "                'black and tan':'black',\n",
    "                'black and white':'black'}\n",
    "dogs['main_color'] = dogs['color'].replace(update_colors)"
   ]
  },
  {
   "cell_type": "code",
   "execution_count": 27,
   "id": "3a01d284",
   "metadata": {},
   "outputs": [
    {
     "name": "stdout",
     "output_type": "stream",
     "text": [
      "<class 'pandas.core.frame.DataFrame'>\n",
      "RangeIndex: 2937 entries, 0 to 2936\n",
      "Data columns (total 20 columns):\n",
      " #   Column             Non-Null Count  Dtype   \n",
      "---  ------             --------------  -----   \n",
      " 0   ID                 2937 non-null   int64   \n",
      " 1   name               2845 non-null   object  \n",
      " 2   age                2937 non-null   float64 \n",
      " 3   sex                2937 non-null   object  \n",
      " 4   breed              2937 non-null   category\n",
      " 5   date_found         2937 non-null   object  \n",
      " 6   adoptable_from     2937 non-null   object  \n",
      " 7   posted             2937 non-null   object  \n",
      " 8   color              2937 non-null   category\n",
      " 9   coat               2937 non-null   object  \n",
      " 10  size               2937 non-null   category\n",
      " 11  neutered           1852 non-null   object  \n",
      " 12  housebroken        460 non-null    object  \n",
      " 13  likes_people       1999 non-null   object  \n",
      " 14  likes_children     2937 non-null   category\n",
      " 15  get_along_males    1633 non-null   object  \n",
      " 16  get_along_females  1673 non-null   object  \n",
      " 17  get_along_cats     431 non-null    object  \n",
      " 18  keep_in            1916 non-null   category\n",
      " 19  main_color         2937 non-null   category\n",
      "dtypes: category(6), float64(1), int64(1), object(12)\n",
      "memory usage: 353.6+ KB\n"
     ]
    }
   ],
   "source": [
    "# Replace methods does preserve the categorical data type\n",
    "dogs.info()"
   ]
  },
  {
   "cell_type": "markdown",
   "id": "2365ecfc",
   "metadata": {},
   "source": [
    "# Reordering categories\n",
    "- .cat.reorder_categories"
   ]
  },
  {
   "cell_type": "code",
   "execution_count": 28,
   "id": "0dd9e7d5",
   "metadata": {},
   "outputs": [
    {
     "data": {
      "text/plain": [
       "medium    1944\n",
       "large      519\n",
       "small      474\n",
       "Name: size, dtype: int64"
      ]
     },
     "execution_count": 28,
     "metadata": {},
     "output_type": "execute_result"
    }
   ],
   "source": [
    "dogs['size'].cat.categories\n",
    "dogs['size'].value_counts()"
   ]
  },
  {
   "cell_type": "code",
   "execution_count": 29,
   "id": "7ac46d06",
   "metadata": {},
   "outputs": [
    {
     "name": "stderr",
     "output_type": "stream",
     "text": [
      "/var/folders/5b/xfb4t7qx02v0qzws4scwmr1w0000gn/T/ipykernel_93290/684417735.py:3: FutureWarning: The `inplace` parameter in pandas.Categorical.reorder_categories is deprecated and will be removed in a future version. Reordering categories will always return a new Categorical object.\n",
      "  dogs[\"size\"].cat.reorder_categories(\n"
     ]
    }
   ],
   "source": [
    "#Reorder categories in the \"size\" column using the categories \n",
    "#\"small\", \"medium\", \"large\"\n",
    "dogs[\"size\"].cat.reorder_categories(\n",
    "  new_categories=[\"small\", \"medium\", \"large\"],\n",
    "  ordered=True,\n",
    "  inplace=True)"
   ]
  },
  {
   "cell_type": "code",
   "execution_count": 30,
   "id": "b103e133",
   "metadata": {},
   "outputs": [
    {
     "data": {
      "text/plain": [
       "CategoricalDtype(categories=['small', 'medium', 'large'], ordered=True)"
      ]
     },
     "execution_count": 30,
     "metadata": {},
     "output_type": "execute_result"
    }
   ],
   "source": [
    "dogs['size'].dtype"
   ]
  },
  {
   "cell_type": "code",
   "execution_count": 31,
   "id": "28e272a6",
   "metadata": {},
   "outputs": [
    {
     "name": "stdout",
     "output_type": "stream",
     "text": [
      "size    sex   \n",
      "small   male       260\n",
      "        female     214\n",
      "medium  male      1090\n",
      "        female     854\n",
      "large   male       331\n",
      "        female     188\n",
      "Name: sex, dtype: int64\n",
      "size    keep_in                \n",
      "small   both flat and garden       238\n",
      "        flat                        80\n",
      "        garden                      21\n",
      "        Unknown History              0\n",
      "        Open Yard (Countryside)      0\n",
      "medium  both flat and garden       795\n",
      "        garden                     317\n",
      "        flat                        97\n",
      "        Unknown History              0\n",
      "        Open Yard (Countryside)      0\n",
      "large   both flat and garden       191\n",
      "        garden                     172\n",
      "        flat                         5\n",
      "        Unknown History              0\n",
      "        Open Yard (Countryside)      0\n",
      "Name: keep_in, dtype: int64\n"
     ]
    }
   ],
   "source": [
    "# How many Male/Female dogs are available of each size?\n",
    "print(dogs.groupby('size')['sex'].value_counts())\n",
    "\n",
    "# Do larger dogs need more room to roam?\n",
    "print(dogs.groupby('size')['keep_in'].value_counts())"
   ]
  },
  {
   "cell_type": "markdown",
   "id": "df863fd9",
   "metadata": {},
   "source": [
    "# Cleaning and accessing data\n",
    "- Whitespaces\n",
    "- Capitalization\n",
    "- Misspelled words"
   ]
  },
  {
   "cell_type": "code",
   "execution_count": 32,
   "id": "ad89496b",
   "metadata": {},
   "outputs": [
    {
     "data": {
      "text/plain": [
       "NaN    2506\n",
       "yes     275\n",
       "no      156\n",
       "Name: get_along_cats, dtype: int64"
      ]
     },
     "execution_count": 32,
     "metadata": {},
     "output_type": "execute_result"
    }
   ],
   "source": [
    "dogs['get_along_cats'].value_counts(dropna=False)"
   ]
  },
  {
   "cell_type": "code",
   "execution_count": 33,
   "id": "59145025",
   "metadata": {},
   "outputs": [
    {
     "data": {
      "text/plain": [
       "no     2662\n",
       "yes     275\n",
       "Name: get_along_cats, dtype: int64"
      ]
     },
     "execution_count": 33,
     "metadata": {},
     "output_type": "execute_result"
    }
   ],
   "source": [
    "dogs['get_along_cats'] = dogs['get_along_cats'].fillna('no')\n",
    "dogs['get_along_cats'].value_counts(dropna=False)"
   ]
  },
  {
   "cell_type": "markdown",
   "id": "9f5f658c",
   "metadata": {},
   "source": [
    "# Visualizing Categorical Data\n",
    "* New dataset: Las Vegas TripAdvisor reviews, 504 reviews, 21 hotels, collected 2015, for analysis and insights in research"
   ]
  },
  {
   "cell_type": "code",
   "execution_count": 34,
   "id": "69c693ad",
   "metadata": {},
   "outputs": [
    {
     "data": {
      "text/html": [
       "<div>\n",
       "<style scoped>\n",
       "    .dataframe tbody tr th:only-of-type {\n",
       "        vertical-align: middle;\n",
       "    }\n",
       "\n",
       "    .dataframe tbody tr th {\n",
       "        vertical-align: top;\n",
       "    }\n",
       "\n",
       "    .dataframe thead th {\n",
       "        text-align: right;\n",
       "    }\n",
       "</style>\n",
       "<table border=\"1\" class=\"dataframe\">\n",
       "  <thead>\n",
       "    <tr style=\"text-align: right;\">\n",
       "      <th></th>\n",
       "      <th>User country</th>\n",
       "      <th>Nr. reviews</th>\n",
       "      <th>Nr. hotel reviews</th>\n",
       "      <th>Helpful votes</th>\n",
       "      <th>Score</th>\n",
       "      <th>Period of stay</th>\n",
       "      <th>Traveler type</th>\n",
       "      <th>Pool</th>\n",
       "      <th>Gym</th>\n",
       "      <th>Tennis court</th>\n",
       "      <th>Spa</th>\n",
       "      <th>Casino</th>\n",
       "      <th>Free internet</th>\n",
       "      <th>Hotel name</th>\n",
       "      <th>Hotel stars</th>\n",
       "      <th>Nr. rooms</th>\n",
       "      <th>User continent</th>\n",
       "      <th>Member years</th>\n",
       "      <th>Review month</th>\n",
       "      <th>Review weekday</th>\n",
       "    </tr>\n",
       "  </thead>\n",
       "  <tbody>\n",
       "    <tr>\n",
       "      <th>0</th>\n",
       "      <td>USA</td>\n",
       "      <td>11</td>\n",
       "      <td>4</td>\n",
       "      <td>13</td>\n",
       "      <td>5</td>\n",
       "      <td>Dec-Feb</td>\n",
       "      <td>Friends</td>\n",
       "      <td>NO</td>\n",
       "      <td>YES</td>\n",
       "      <td>NO</td>\n",
       "      <td>NO</td>\n",
       "      <td>YES</td>\n",
       "      <td>YES</td>\n",
       "      <td>Circus Circus Hotel &amp; Casino Las Vegas</td>\n",
       "      <td>3</td>\n",
       "      <td>3773</td>\n",
       "      <td>North America</td>\n",
       "      <td>9</td>\n",
       "      <td>January</td>\n",
       "      <td>Thursday</td>\n",
       "    </tr>\n",
       "    <tr>\n",
       "      <th>1</th>\n",
       "      <td>USA</td>\n",
       "      <td>119</td>\n",
       "      <td>21</td>\n",
       "      <td>75</td>\n",
       "      <td>3</td>\n",
       "      <td>Dec-Feb</td>\n",
       "      <td>Business</td>\n",
       "      <td>NO</td>\n",
       "      <td>YES</td>\n",
       "      <td>NO</td>\n",
       "      <td>NO</td>\n",
       "      <td>YES</td>\n",
       "      <td>YES</td>\n",
       "      <td>Circus Circus Hotel &amp; Casino Las Vegas</td>\n",
       "      <td>3</td>\n",
       "      <td>3773</td>\n",
       "      <td>North America</td>\n",
       "      <td>3</td>\n",
       "      <td>January</td>\n",
       "      <td>Friday</td>\n",
       "    </tr>\n",
       "    <tr>\n",
       "      <th>2</th>\n",
       "      <td>USA</td>\n",
       "      <td>36</td>\n",
       "      <td>9</td>\n",
       "      <td>25</td>\n",
       "      <td>5</td>\n",
       "      <td>Mar-May</td>\n",
       "      <td>Families</td>\n",
       "      <td>NO</td>\n",
       "      <td>YES</td>\n",
       "      <td>NO</td>\n",
       "      <td>NO</td>\n",
       "      <td>YES</td>\n",
       "      <td>YES</td>\n",
       "      <td>Circus Circus Hotel &amp; Casino Las Vegas</td>\n",
       "      <td>3</td>\n",
       "      <td>3773</td>\n",
       "      <td>North America</td>\n",
       "      <td>2</td>\n",
       "      <td>February</td>\n",
       "      <td>Saturday</td>\n",
       "    </tr>\n",
       "    <tr>\n",
       "      <th>3</th>\n",
       "      <td>UK</td>\n",
       "      <td>14</td>\n",
       "      <td>7</td>\n",
       "      <td>14</td>\n",
       "      <td>4</td>\n",
       "      <td>Mar-May</td>\n",
       "      <td>Friends</td>\n",
       "      <td>NO</td>\n",
       "      <td>YES</td>\n",
       "      <td>NO</td>\n",
       "      <td>NO</td>\n",
       "      <td>YES</td>\n",
       "      <td>YES</td>\n",
       "      <td>Circus Circus Hotel &amp; Casino Las Vegas</td>\n",
       "      <td>3</td>\n",
       "      <td>3773</td>\n",
       "      <td>Europe</td>\n",
       "      <td>6</td>\n",
       "      <td>February</td>\n",
       "      <td>Friday</td>\n",
       "    </tr>\n",
       "    <tr>\n",
       "      <th>4</th>\n",
       "      <td>Canada</td>\n",
       "      <td>5</td>\n",
       "      <td>5</td>\n",
       "      <td>2</td>\n",
       "      <td>4</td>\n",
       "      <td>Mar-May</td>\n",
       "      <td>Solo</td>\n",
       "      <td>NO</td>\n",
       "      <td>YES</td>\n",
       "      <td>NO</td>\n",
       "      <td>NO</td>\n",
       "      <td>YES</td>\n",
       "      <td>YES</td>\n",
       "      <td>Circus Circus Hotel &amp; Casino Las Vegas</td>\n",
       "      <td>3</td>\n",
       "      <td>3773</td>\n",
       "      <td>North America</td>\n",
       "      <td>7</td>\n",
       "      <td>March</td>\n",
       "      <td>Tuesday</td>\n",
       "    </tr>\n",
       "  </tbody>\n",
       "</table>\n",
       "</div>"
      ],
      "text/plain": [
       "  User country  Nr. reviews  Nr. hotel reviews  Helpful votes  Score  \\\n",
       "0          USA           11                  4             13      5   \n",
       "1          USA          119                 21             75      3   \n",
       "2          USA           36                  9             25      5   \n",
       "3           UK           14                  7             14      4   \n",
       "4       Canada            5                  5              2      4   \n",
       "\n",
       "  Period of stay Traveler type Pool  Gym Tennis court Spa Casino  \\\n",
       "0        Dec-Feb       Friends   NO  YES           NO  NO    YES   \n",
       "1        Dec-Feb      Business   NO  YES           NO  NO    YES   \n",
       "2        Mar-May      Families   NO  YES           NO  NO    YES   \n",
       "3        Mar-May       Friends   NO  YES           NO  NO    YES   \n",
       "4        Mar-May          Solo   NO  YES           NO  NO    YES   \n",
       "\n",
       "  Free internet                              Hotel name  Hotel stars  \\\n",
       "0           YES  Circus Circus Hotel & Casino Las Vegas            3   \n",
       "1           YES  Circus Circus Hotel & Casino Las Vegas            3   \n",
       "2           YES  Circus Circus Hotel & Casino Las Vegas            3   \n",
       "3           YES  Circus Circus Hotel & Casino Las Vegas            3   \n",
       "4           YES  Circus Circus Hotel & Casino Las Vegas            3   \n",
       "\n",
       "   Nr. rooms User continent  Member years Review month Review weekday  \n",
       "0       3773  North America             9      January       Thursday  \n",
       "1       3773  North America             3      January         Friday  \n",
       "2       3773  North America             2     February       Saturday  \n",
       "3       3773         Europe             6     February         Friday  \n",
       "4       3773  North America             7        March        Tuesday  "
      ]
     },
     "execution_count": 34,
     "metadata": {},
     "output_type": "execute_result"
    }
   ],
   "source": [
    "trips = pd.read_csv('lasvegas_tripadvisor.csv')\n",
    "trips.head()"
   ]
  },
  {
   "cell_type": "code",
   "execution_count": 35,
   "id": "718deda1",
   "metadata": {},
   "outputs": [
    {
     "data": {
      "image/png": "[encoded data removed]",
      "text/plain": [
       "<Figure size 500x500 with 1 Axes>"
      ]
     },
     "metadata": {},
     "output_type": "display_data"
    }
   ],
   "source": [
    "# Create a boxplot\n",
    "sns.catplot(x='Traveler type',y='Helpful votes',data=trips,kind='box')\n",
    "plt.show()"
   ]
  },
  {
   "cell_type": "markdown",
   "id": "48ed4721",
   "metadata": {},
   "source": [
    "###  It looks like business travelers have left the most helpful reviews, although there are a few reviews by couples that have been really helpful to others."
   ]
  },
  {
   "cell_type": "markdown",
   "id": "8bbe13a9",
   "metadata": {},
   "source": [
    "### Now let's summarize a numerical variable across the different levels of a categorical variable\n",
    "1. **Mean Estimates**: The height of each bar on the chart represents a point estimate for the mean value of the data.\n",
    "\n",
    "2. **Confidence Intervals (CIs)**: The black lines on the chart represent confidence intervals around the mean estimates.\n",
    "\n",
    "3. **Statistical Significance**: The intervals indicate a range where there's a 95% confidence that the true population mean lies.\n",
    "\n",
    "4. **Interpretation Example**: For instance, if examining Scores for those labeled \"friends\" travelers, the mean estimate would be slightly above four with a small confidence interval.\n",
    "\n",
    "5. **Comparison**: Conversely, the mean for solo travelers is below four, and its confidence interval is larger, indicating less precision in the estimate.\n"
   ]
  },
  {
   "cell_type": "code",
   "execution_count": 36,
   "id": "e24e8ad5",
   "metadata": {},
   "outputs": [
    {
     "data": {
      "image/png": "[encoded data removed]",
      "text/plain": [
       "<Figure size 500x500 with 1 Axes>"
      ]
     },
     "metadata": {},
     "output_type": "display_data"
    }
   ],
   "source": [
    "sns.catplot(x='Traveler type', y='Score', data= trips, kind='bar')\n",
    "plt.show()"
   ]
  },
  {
   "cell_type": "code",
   "execution_count": 37,
   "id": "2091e900",
   "metadata": {},
   "outputs": [
    {
     "data": {
      "image/png": "[encoded data removed]",
      "text/plain": [
       "<Figure size 606.25x500 with 1 Axes>"
      ]
     },
     "metadata": {},
     "output_type": "display_data"
    }
   ],
   "source": [
    "sns.catplot(x='User continent', hue='Traveler type', data= trips, kind='count')\n",
    "plt.show()"
   ]
  },
  {
   "cell_type": "code",
   "execution_count": 38,
   "id": "fe052518",
   "metadata": {},
   "outputs": [
    {
     "data": {
      "image/png": "[encoded data removed]",
      "text/plain": [
       "<Figure size 1500x1000 with 6 Axes>"
      ]
     },
     "metadata": {},
     "output_type": "display_data"
    }
   ],
   "source": [
    "sns.catplot(x='Traveler type', kind='count', col='User continent',\n",
    "            col_wrap = 3, data= trips,)\n",
    "plt.show()"
   ]
  },
  {
   "cell_type": "markdown",
   "id": "995bc333",
   "metadata": {},
   "source": [
    "# Label encoding and one-hot encoding\n",
    "- Label encoding assigns integers to categorical values, typically starting at 0 and ending at n - 1. It simplifies responses, saves memory, but isn't optimal for machine learning."
   ]
  },
  {
   "cell_type": "code",
   "execution_count": 39,
   "id": "dff52e3a",
   "metadata": {},
   "outputs": [
    {
     "data": {
      "text/html": [
       "<div>\n",
       "<style scoped>\n",
       "    .dataframe tbody tr th:only-of-type {\n",
       "        vertical-align: middle;\n",
       "    }\n",
       "\n",
       "    .dataframe tbody tr th {\n",
       "        vertical-align: top;\n",
       "    }\n",
       "\n",
       "    .dataframe thead th {\n",
       "        text-align: right;\n",
       "    }\n",
       "</style>\n",
       "<table border=\"1\" class=\"dataframe\">\n",
       "  <thead>\n",
       "    <tr style=\"text-align: right;\">\n",
       "      <th></th>\n",
       "      <th>manufacturer_name</th>\n",
       "      <th>model_name</th>\n",
       "      <th>transmission</th>\n",
       "      <th>color</th>\n",
       "      <th>odometer_value</th>\n",
       "      <th>year_produced</th>\n",
       "      <th>engine_fuel</th>\n",
       "      <th>engine_has_gas</th>\n",
       "      <th>engine_type</th>\n",
       "      <th>engine_capacity</th>\n",
       "      <th>...</th>\n",
       "      <th>feature_1</th>\n",
       "      <th>feature_2</th>\n",
       "      <th>feature_3</th>\n",
       "      <th>feature_4</th>\n",
       "      <th>feature_5</th>\n",
       "      <th>feature_6</th>\n",
       "      <th>feature_7</th>\n",
       "      <th>feature_8</th>\n",
       "      <th>feature_9</th>\n",
       "      <th>duration_listed</th>\n",
       "    </tr>\n",
       "  </thead>\n",
       "  <tbody>\n",
       "    <tr>\n",
       "      <th>0</th>\n",
       "      <td>Subaru</td>\n",
       "      <td>Outback</td>\n",
       "      <td>automatic</td>\n",
       "      <td>silver</td>\n",
       "      <td>190000</td>\n",
       "      <td>2010</td>\n",
       "      <td>gasoline</td>\n",
       "      <td>False</td>\n",
       "      <td>gasoline</td>\n",
       "      <td>2.5</td>\n",
       "      <td>...</td>\n",
       "      <td>True</td>\n",
       "      <td>True</td>\n",
       "      <td>True</td>\n",
       "      <td>False</td>\n",
       "      <td>True</td>\n",
       "      <td>False</td>\n",
       "      <td>True</td>\n",
       "      <td>True</td>\n",
       "      <td>True</td>\n",
       "      <td>16</td>\n",
       "    </tr>\n",
       "    <tr>\n",
       "      <th>1</th>\n",
       "      <td>Subaru</td>\n",
       "      <td>Outback</td>\n",
       "      <td>automatic</td>\n",
       "      <td>blue</td>\n",
       "      <td>290000</td>\n",
       "      <td>2002</td>\n",
       "      <td>gasoline</td>\n",
       "      <td>False</td>\n",
       "      <td>gasoline</td>\n",
       "      <td>3.0</td>\n",
       "      <td>...</td>\n",
       "      <td>True</td>\n",
       "      <td>False</td>\n",
       "      <td>False</td>\n",
       "      <td>True</td>\n",
       "      <td>True</td>\n",
       "      <td>False</td>\n",
       "      <td>False</td>\n",
       "      <td>False</td>\n",
       "      <td>True</td>\n",
       "      <td>83</td>\n",
       "    </tr>\n",
       "    <tr>\n",
       "      <th>2</th>\n",
       "      <td>Subaru</td>\n",
       "      <td>Forester</td>\n",
       "      <td>automatic</td>\n",
       "      <td>red</td>\n",
       "      <td>402000</td>\n",
       "      <td>2001</td>\n",
       "      <td>gasoline</td>\n",
       "      <td>False</td>\n",
       "      <td>gasoline</td>\n",
       "      <td>2.5</td>\n",
       "      <td>...</td>\n",
       "      <td>True</td>\n",
       "      <td>False</td>\n",
       "      <td>False</td>\n",
       "      <td>False</td>\n",
       "      <td>False</td>\n",
       "      <td>False</td>\n",
       "      <td>False</td>\n",
       "      <td>True</td>\n",
       "      <td>True</td>\n",
       "      <td>151</td>\n",
       "    </tr>\n",
       "    <tr>\n",
       "      <th>3</th>\n",
       "      <td>Subaru</td>\n",
       "      <td>Impreza</td>\n",
       "      <td>mechanical</td>\n",
       "      <td>blue</td>\n",
       "      <td>10000</td>\n",
       "      <td>1999</td>\n",
       "      <td>gasoline</td>\n",
       "      <td>False</td>\n",
       "      <td>gasoline</td>\n",
       "      <td>3.0</td>\n",
       "      <td>...</td>\n",
       "      <td>False</td>\n",
       "      <td>False</td>\n",
       "      <td>False</td>\n",
       "      <td>False</td>\n",
       "      <td>False</td>\n",
       "      <td>False</td>\n",
       "      <td>False</td>\n",
       "      <td>False</td>\n",
       "      <td>False</td>\n",
       "      <td>86</td>\n",
       "    </tr>\n",
       "    <tr>\n",
       "      <th>4</th>\n",
       "      <td>Subaru</td>\n",
       "      <td>Legacy</td>\n",
       "      <td>automatic</td>\n",
       "      <td>black</td>\n",
       "      <td>280000</td>\n",
       "      <td>2001</td>\n",
       "      <td>gasoline</td>\n",
       "      <td>False</td>\n",
       "      <td>gasoline</td>\n",
       "      <td>2.5</td>\n",
       "      <td>...</td>\n",
       "      <td>True</td>\n",
       "      <td>False</td>\n",
       "      <td>True</td>\n",
       "      <td>True</td>\n",
       "      <td>False</td>\n",
       "      <td>False</td>\n",
       "      <td>False</td>\n",
       "      <td>False</td>\n",
       "      <td>True</td>\n",
       "      <td>7</td>\n",
       "    </tr>\n",
       "  </tbody>\n",
       "</table>\n",
       "<p>5 rows × 30 columns</p>\n",
       "</div>"
      ],
      "text/plain": [
       "  manufacturer_name model_name transmission   color  odometer_value  \\\n",
       "0            Subaru    Outback    automatic  silver          190000   \n",
       "1            Subaru    Outback    automatic    blue          290000   \n",
       "2            Subaru   Forester    automatic     red          402000   \n",
       "3            Subaru    Impreza   mechanical    blue           10000   \n",
       "4            Subaru     Legacy    automatic   black          280000   \n",
       "\n",
       "   year_produced engine_fuel  engine_has_gas engine_type  engine_capacity  \\\n",
       "0           2010    gasoline           False    gasoline              2.5   \n",
       "1           2002    gasoline           False    gasoline              3.0   \n",
       "2           2001    gasoline           False    gasoline              2.5   \n",
       "3           1999    gasoline           False    gasoline              3.0   \n",
       "4           2001    gasoline           False    gasoline              2.5   \n",
       "\n",
       "   ... feature_1  feature_2 feature_3 feature_4  feature_5  feature_6  \\\n",
       "0  ...      True       True      True     False       True      False   \n",
       "1  ...      True      False     False      True       True      False   \n",
       "2  ...      True      False     False     False      False      False   \n",
       "3  ...     False      False     False     False      False      False   \n",
       "4  ...      True      False      True      True      False      False   \n",
       "\n",
       "  feature_7  feature_8  feature_9  duration_listed  \n",
       "0      True       True       True               16  \n",
       "1     False      False       True               83  \n",
       "2     False       True       True              151  \n",
       "3     False      False      False               86  \n",
       "4     False      False       True                7  \n",
       "\n",
       "[5 rows x 30 columns]"
      ]
     },
     "execution_count": 39,
     "metadata": {},
     "output_type": "execute_result"
    }
   ],
   "source": [
    "cars = pd.read_csv('cars.csv')\n",
    "cars.head()"
   ]
  },
  {
   "cell_type": "code",
   "execution_count": 40,
   "id": "3a6ecf2d",
   "metadata": {},
   "outputs": [
    {
     "name": "stdout",
     "output_type": "stream",
     "text": [
      "<class 'pandas.core.frame.DataFrame'>\n",
      "RangeIndex: 38531 entries, 0 to 38530\n",
      "Data columns (total 30 columns):\n",
      " #   Column             Non-Null Count  Dtype  \n",
      "---  ------             --------------  -----  \n",
      " 0   manufacturer_name  38531 non-null  object \n",
      " 1   model_name         38531 non-null  object \n",
      " 2   transmission       38531 non-null  object \n",
      " 3   color              38531 non-null  object \n",
      " 4   odometer_value     38531 non-null  int64  \n",
      " 5   year_produced      38531 non-null  int64  \n",
      " 6   engine_fuel        38531 non-null  object \n",
      " 7   engine_has_gas     38531 non-null  bool   \n",
      " 8   engine_type        38531 non-null  object \n",
      " 9   engine_capacity    38521 non-null  float64\n",
      " 10  body_type          38531 non-null  object \n",
      " 11  has_warranty       38531 non-null  bool   \n",
      " 12  state              38531 non-null  object \n",
      " 13  drivetrain         38531 non-null  object \n",
      " 14  price_usd          38531 non-null  float64\n",
      " 15  is_exchangeable    38531 non-null  bool   \n",
      " 16  location_region    38531 non-null  object \n",
      " 17  number_of_photos   38531 non-null  int64  \n",
      " 18  up_counter         38531 non-null  int64  \n",
      " 19  feature_0          38531 non-null  bool   \n",
      " 20  feature_1          38531 non-null  bool   \n",
      " 21  feature_2          38531 non-null  bool   \n",
      " 22  feature_3          38531 non-null  bool   \n",
      " 23  feature_4          38531 non-null  bool   \n",
      " 24  feature_5          38531 non-null  bool   \n",
      " 25  feature_6          38531 non-null  bool   \n",
      " 26  feature_7          38531 non-null  bool   \n",
      " 27  feature_8          38531 non-null  bool   \n",
      " 28  feature_9          38531 non-null  bool   \n",
      " 29  duration_listed    38531 non-null  int64  \n",
      "dtypes: bool(13), float64(2), int64(5), object(10)\n",
      "memory usage: 5.5+ MB\n"
     ]
    }
   ],
   "source": [
    "cars.info()"
   ]
  },
  {
   "cell_type": "markdown",
   "id": "0a4f6e77",
   "metadata": {},
   "source": [
    "## Boolean coding\n",
    "- **Boolean Coding for Categorical Columns**:\n",
    "  - A common practice in label encoding involves creating a Boolean code representing specific categories or groups within a column.\n",
    "  - Utilize NumPy's 'where' function to assign 1 for true conditions and 0 for false conditions based on predefined criteria.\n",
    "  - In an example, about 4,400 out of 38,000 used cars are identified as vans based on body type names.\n",
    "\n",
    "- **NumPy's 'where' Function Usage**:\n",
    "  - NumPy's 'where' function facilitates the creation of Boolean codes, enabling the assignment of values based on specified conditions.\n",
    "  - Conditions like containing specific letters in body type names determine 1 (true) or 0 (false) values.\n",
    "  - In practice, only a fraction of the used cars, around 4,400, are categorized as vans.\n",
    "\n",
    "- **Application and Output Analysis**:\n",
    "  - Implementation of Boolean coding enhances categorization efficiency for specific groups, such as vans among used cars.\n",
    "  - The 'where' function enables precise assignment of 1 or 0 values based on defined conditions, aiding in data analysis.\n",
    "  - Output examination reveals the proportion of used cars identified as vans, facilitating insights into dataset characteristics.\n"
   ]
  },
  {
   "cell_type": "code",
   "execution_count": 41,
   "id": "bab4534d",
   "metadata": {},
   "outputs": [
    {
     "data": {
      "text/plain": [
       "0        False\n",
       "1        False\n",
       "2        False\n",
       "3        False\n",
       "4        False\n",
       "         ...  \n",
       "38526    False\n",
       "38527    False\n",
       "38528    False\n",
       "38529     True\n",
       "38530     True\n",
       "Name: body_type, Length: 38531, dtype: bool"
      ]
     },
     "execution_count": 41,
     "metadata": {},
     "output_type": "execute_result"
    }
   ],
   "source": [
    "cars['body_type'].str.contains('van', regex=False)"
   ]
  },
  {
   "cell_type": "code",
   "execution_count": 42,
   "id": "7cdc6d33",
   "metadata": {},
   "outputs": [
    {
     "data": {
      "text/plain": [
       "0    34115\n",
       "1     4416\n",
       "Name: van_code, dtype: int64"
      ]
     },
     "execution_count": 42,
     "metadata": {},
     "output_type": "execute_result"
    }
   ],
   "source": [
    "cars['van_code'] = np.where(\n",
    "    cars['body_type'].str.contains('van', regex=False),1,0)\n",
    "cars['van_code'].value_counts()"
   ]
  },
  {
   "cell_type": "code",
   "execution_count": 43,
   "id": "79d4c1b6",
   "metadata": {},
   "outputs": [
    {
     "data": {
      "text/plain": [
       "black     7705\n",
       "silver    6852\n",
       "blue      5802\n",
       "white     4212\n",
       "grey      3751\n",
       "red       2925\n",
       "green     2760\n",
       "other     2688\n",
       "brown      886\n",
       "violet     463\n",
       "yellow     303\n",
       "orange     184\n",
       "Name: color, dtype: int64"
      ]
     },
     "execution_count": 43,
     "metadata": {},
     "output_type": "execute_result"
    }
   ],
   "source": [
    "# Convert to categorical and print the frequency table\n",
    "cars[\"color\"] = cars[\"color\"].astype(\"category\")\n",
    "cars[\"color\"].value_counts()"
   ]
  },
  {
   "cell_type": "code",
   "execution_count": 44,
   "id": "647d0181",
   "metadata": {},
   "outputs": [
    {
     "data": {
      "text/plain": [
       "['silver', 'blue', 'red', 'black', 'grey', ..., 'white', 'green', 'violet', 'orange', 'yellow']\n",
       "Length: 12\n",
       "Categories (12, object): ['black', 'blue', 'brown', 'green', ..., 'silver', 'violet', 'white', 'yellow']"
      ]
     },
     "execution_count": 44,
     "metadata": {},
     "output_type": "execute_result"
    }
   ],
   "source": [
    "# Label encode the 'color' column\n",
    "cars['color'].unique()"
   ]
  },
  {
   "cell_type": "code",
   "execution_count": 45,
   "id": "a1da80ee",
   "metadata": {},
   "outputs": [],
   "source": [
    "# Create a label encoding\n",
    "cars[\"color_code\"] = cars[\"color\"].cat.codes"
   ]
  },
  {
   "cell_type": "code",
   "execution_count": 46,
   "id": "5f2d6336",
   "metadata": {},
   "outputs": [
    {
     "data": {
      "text/html": [
       "<div>\n",
       "<style scoped>\n",
       "    .dataframe tbody tr th:only-of-type {\n",
       "        vertical-align: middle;\n",
       "    }\n",
       "\n",
       "    .dataframe tbody tr th {\n",
       "        vertical-align: top;\n",
       "    }\n",
       "\n",
       "    .dataframe thead th {\n",
       "        text-align: right;\n",
       "    }\n",
       "</style>\n",
       "<table border=\"1\" class=\"dataframe\">\n",
       "  <thead>\n",
       "    <tr style=\"text-align: right;\">\n",
       "      <th></th>\n",
       "      <th>manufacturer_name</th>\n",
       "      <th>model_name</th>\n",
       "      <th>transmission</th>\n",
       "      <th>color</th>\n",
       "      <th>odometer_value</th>\n",
       "      <th>year_produced</th>\n",
       "      <th>engine_fuel</th>\n",
       "      <th>engine_has_gas</th>\n",
       "      <th>engine_type</th>\n",
       "      <th>engine_capacity</th>\n",
       "      <th>...</th>\n",
       "      <th>feature_3</th>\n",
       "      <th>feature_4</th>\n",
       "      <th>feature_5</th>\n",
       "      <th>feature_6</th>\n",
       "      <th>feature_7</th>\n",
       "      <th>feature_8</th>\n",
       "      <th>feature_9</th>\n",
       "      <th>duration_listed</th>\n",
       "      <th>van_code</th>\n",
       "      <th>color_code</th>\n",
       "    </tr>\n",
       "  </thead>\n",
       "  <tbody>\n",
       "    <tr>\n",
       "      <th>0</th>\n",
       "      <td>Subaru</td>\n",
       "      <td>Outback</td>\n",
       "      <td>automatic</td>\n",
       "      <td>silver</td>\n",
       "      <td>190000</td>\n",
       "      <td>2010</td>\n",
       "      <td>gasoline</td>\n",
       "      <td>False</td>\n",
       "      <td>gasoline</td>\n",
       "      <td>2.5</td>\n",
       "      <td>...</td>\n",
       "      <td>True</td>\n",
       "      <td>False</td>\n",
       "      <td>True</td>\n",
       "      <td>False</td>\n",
       "      <td>True</td>\n",
       "      <td>True</td>\n",
       "      <td>True</td>\n",
       "      <td>16</td>\n",
       "      <td>0</td>\n",
       "      <td>8</td>\n",
       "    </tr>\n",
       "    <tr>\n",
       "      <th>1</th>\n",
       "      <td>Subaru</td>\n",
       "      <td>Outback</td>\n",
       "      <td>automatic</td>\n",
       "      <td>blue</td>\n",
       "      <td>290000</td>\n",
       "      <td>2002</td>\n",
       "      <td>gasoline</td>\n",
       "      <td>False</td>\n",
       "      <td>gasoline</td>\n",
       "      <td>3.0</td>\n",
       "      <td>...</td>\n",
       "      <td>False</td>\n",
       "      <td>True</td>\n",
       "      <td>True</td>\n",
       "      <td>False</td>\n",
       "      <td>False</td>\n",
       "      <td>False</td>\n",
       "      <td>True</td>\n",
       "      <td>83</td>\n",
       "      <td>0</td>\n",
       "      <td>1</td>\n",
       "    </tr>\n",
       "    <tr>\n",
       "      <th>2</th>\n",
       "      <td>Subaru</td>\n",
       "      <td>Forester</td>\n",
       "      <td>automatic</td>\n",
       "      <td>red</td>\n",
       "      <td>402000</td>\n",
       "      <td>2001</td>\n",
       "      <td>gasoline</td>\n",
       "      <td>False</td>\n",
       "      <td>gasoline</td>\n",
       "      <td>2.5</td>\n",
       "      <td>...</td>\n",
       "      <td>False</td>\n",
       "      <td>False</td>\n",
       "      <td>False</td>\n",
       "      <td>False</td>\n",
       "      <td>False</td>\n",
       "      <td>True</td>\n",
       "      <td>True</td>\n",
       "      <td>151</td>\n",
       "      <td>0</td>\n",
       "      <td>7</td>\n",
       "    </tr>\n",
       "    <tr>\n",
       "      <th>3</th>\n",
       "      <td>Subaru</td>\n",
       "      <td>Impreza</td>\n",
       "      <td>mechanical</td>\n",
       "      <td>blue</td>\n",
       "      <td>10000</td>\n",
       "      <td>1999</td>\n",
       "      <td>gasoline</td>\n",
       "      <td>False</td>\n",
       "      <td>gasoline</td>\n",
       "      <td>3.0</td>\n",
       "      <td>...</td>\n",
       "      <td>False</td>\n",
       "      <td>False</td>\n",
       "      <td>False</td>\n",
       "      <td>False</td>\n",
       "      <td>False</td>\n",
       "      <td>False</td>\n",
       "      <td>False</td>\n",
       "      <td>86</td>\n",
       "      <td>0</td>\n",
       "      <td>1</td>\n",
       "    </tr>\n",
       "    <tr>\n",
       "      <th>4</th>\n",
       "      <td>Subaru</td>\n",
       "      <td>Legacy</td>\n",
       "      <td>automatic</td>\n",
       "      <td>black</td>\n",
       "      <td>280000</td>\n",
       "      <td>2001</td>\n",
       "      <td>gasoline</td>\n",
       "      <td>False</td>\n",
       "      <td>gasoline</td>\n",
       "      <td>2.5</td>\n",
       "      <td>...</td>\n",
       "      <td>True</td>\n",
       "      <td>True</td>\n",
       "      <td>False</td>\n",
       "      <td>False</td>\n",
       "      <td>False</td>\n",
       "      <td>False</td>\n",
       "      <td>True</td>\n",
       "      <td>7</td>\n",
       "      <td>0</td>\n",
       "      <td>0</td>\n",
       "    </tr>\n",
       "  </tbody>\n",
       "</table>\n",
       "<p>5 rows × 32 columns</p>\n",
       "</div>"
      ],
      "text/plain": [
       "  manufacturer_name model_name transmission   color  odometer_value  \\\n",
       "0            Subaru    Outback    automatic  silver          190000   \n",
       "1            Subaru    Outback    automatic    blue          290000   \n",
       "2            Subaru   Forester    automatic     red          402000   \n",
       "3            Subaru    Impreza   mechanical    blue           10000   \n",
       "4            Subaru     Legacy    automatic   black          280000   \n",
       "\n",
       "   year_produced engine_fuel  engine_has_gas engine_type  engine_capacity  \\\n",
       "0           2010    gasoline           False    gasoline              2.5   \n",
       "1           2002    gasoline           False    gasoline              3.0   \n",
       "2           2001    gasoline           False    gasoline              2.5   \n",
       "3           1999    gasoline           False    gasoline              3.0   \n",
       "4           2001    gasoline           False    gasoline              2.5   \n",
       "\n",
       "   ... feature_3  feature_4 feature_5 feature_6  feature_7  feature_8  \\\n",
       "0  ...      True      False      True     False       True       True   \n",
       "1  ...     False       True      True     False      False      False   \n",
       "2  ...     False      False     False     False      False       True   \n",
       "3  ...     False      False     False     False      False      False   \n",
       "4  ...      True       True     False     False      False      False   \n",
       "\n",
       "  feature_9  duration_listed  van_code  color_code  \n",
       "0      True               16         0           8  \n",
       "1      True               83         0           1  \n",
       "2      True              151         0           7  \n",
       "3     False               86         0           1  \n",
       "4      True                7         0           0  \n",
       "\n",
       "[5 rows x 32 columns]"
      ]
     },
     "execution_count": 46,
     "metadata": {},
     "output_type": "execute_result"
    }
   ],
   "source": [
    "cars.head()"
   ]
  },
  {
   "cell_type": "code",
   "execution_count": 47,
   "id": "cd66a9fa",
   "metadata": {},
   "outputs": [
    {
     "data": {
      "text/plain": [
       "{8: 'silver',\n",
       " 1: 'blue',\n",
       " 7: 'red',\n",
       " 0: 'black',\n",
       " 4: 'grey',\n",
       " 6: 'other',\n",
       " 2: 'brown',\n",
       " 10: 'white',\n",
       " 3: 'green',\n",
       " 9: 'violet',\n",
       " 5: 'orange',\n",
       " 11: 'yellow'}"
      ]
     },
     "execution_count": 47,
     "metadata": {},
     "output_type": "execute_result"
    }
   ],
   "source": [
    "# Print the new color map to see which codes map to which categories.\n",
    "# Create codes and categories objects\n",
    "codes = cars[\"color\"].cat.codes\n",
    "categories = cars[\"color\"]\n",
    "color_map = dict(zip(codes, categories))\n",
    "\n",
    "# Print the map\n",
    "color_map"
   ]
  }
 ],
 "metadata": {
  "kernelspec": {
   "display_name": "Python 3 (ipykernel)",
   "language": "python",
   "name": "python3"
  },
  "language_info": {
   "codemirror_mode": {
    "name": "ipython",
    "version": 3
   },
   "file_extension": ".py",
   "mimetype": "text/x-python",
   "name": "python",
   "nbconvert_exporter": "python",
   "pygments_lexer": "ipython3",
   "version": "3.11.4"
  }
 },
 "nbformat": 4,
 "nbformat_minor": 5
}
